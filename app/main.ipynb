{
 "cells": [
  {
   "cell_type": "code",
   "execution_count": 1,
   "metadata": {},
   "outputs": [
    {
     "name": "stdout",
     "output_type": "stream",
     "text": [
      "[('wishlist',), ('listings',)]\n",
      "[(4, 'iphone', 'iphone14', None, None, None, '256GB', None, 0, 80000)]\n",
      "80000\n",
      "(80000, 80000, 1)\n"
     ]
    }
   ],
   "source": [
    "import sql\n",
    "your_list = {'id': 0, 'category': 'iphone', 'items_name': 'iphone14', 'storage': '256GB'}\n",
    "matched_wish_yours = sql.get_matched_data(your_list) #榎原が書いたやつ、出品者の管理情報を{\"id\":0, \"category\":0, \"items_name\":0, \"storage\":0}にして入れてね！\n",
    "#min, max, 人数が返されます。\n",
    "print(matched_wish_yours[0])\n",
    "print(matched_wish_yours)"
   ]
  },
  {
   "cell_type": "code",
   "execution_count": 1,
   "metadata": {},
   "outputs": [
    {
     "name": "stdout",
     "output_type": "stream",
     "text": [
      "[(1, 'iphone', 'iphone8', None, None, None, '64GB', None, 0, 60000), (2, 'iphone', 'iphone8', None, None, None, '128GB', None, 0, 80000), (3, 'iphone', 'iphone14', None, None, None, '128GB', None, 0, 100000), (4, 'iphone', 'iphone14', None, None, None, '256GB', None, 0, 80000), (4, 'iphone', 'iphone8', None, None, None, '128GB', None, 0, 60000), (6, 'iphone', 'iphone14', None, None, None, '512GB', None, 0, 120000), (7, 'iphone', 'iphone14', None, None, None, '512GB', None, 0, 600), (8, 'iphone', 'iphone14', None, None, None, 256, None, 0, 600)]\n"
     ]
    }
   ],
   "source": [
    "import sql, sqlite3\n",
    "\n",
    "d = {\"id\":8, \"category\":\"iphone\", \"item_name\":\"iphone14\", \"storage\":\"256\", \"min_budget\":0, \"max_budget\":600}\n",
    "#d = {\"id\":6, \"category\":\"iphone\", \"items_name\":\"iphone14\", \"storage\":\"512GB\"}\n",
    "#iphone 8 :64 128 256 , iphone14 :128 256 512\n",
    "\n",
    "x = sql.add_wishlist(d)"
   ]
  },
  {
   "cell_type": "code",
   "execution_count": 2,
   "metadata": {},
   "outputs": [
    {
     "name": "stdout",
     "output_type": "stream",
     "text": [
      "(1, 'iphone', 'iphone8', None, None, None, '64GB', None, 0, 60000)\n",
      "(2, 'iphone', 'iphone8', None, None, None, '128GB', None, 0, 80000)\n",
      "(3, 'iphone', 'iphone14', None, None, None, '128GB', None, 0, 100000)\n",
      "(4, 'iphone', 'iphone14', None, None, None, '256GB', None, 0, 80000)\n",
      "(4, 'iphone', 'iphone8', None, None, None, '128GB', None, 0, 60000)\n",
      "(6, 'iphone', 'iphone14', None, None, None, '512GB', None, 0, 120000)\n",
      "(7, 'iphone', 'iphone14', None, None, None, '512GB', None, 0, 600)\n",
      "(8, 'iphone', 'iphone14', None, None, None, 256, None, 0, 600)\n"
     ]
    }
   ],
   "source": [
    "import sql, sqlite3\n",
    "database: str = \"test.db\"\n",
    "conn = sqlite3.connect(database)\n",
    "cur = conn.cursor()\n",
    "\n",
    "search = cur.execute('SELECT * FROM wishlist')\n",
    "result = search.fetchall()\n",
    "for line in result:\n",
    "    print(line)\n",
    "\n",
    "cur.close()\n",
    "conn.close()\n"
   ]
  }
 ],
 "metadata": {
  "kernelspec": {
   "display_name": "base",
   "language": "python",
   "name": "python3"
  },
  "language_info": {
   "codemirror_mode": {
    "name": "ipython",
    "version": 3
   },
   "file_extension": ".py",
   "mimetype": "text/x-python",
   "name": "python",
   "nbconvert_exporter": "python",
   "pygments_lexer": "ipython3",
   "version": "3.9.12"
  }
 },
 "nbformat": 4,
 "nbformat_minor": 2
}
