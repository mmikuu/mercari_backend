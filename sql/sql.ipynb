{
 "cells": [
  {
   "cell_type": "code",
   "execution_count": 1,
   "metadata": {},
   "outputs": [],
   "source": [
    "import os, sys\n",
    "import sqlite3\n",
    "import codecs\n",
    "import pandas as pd\n",
    "from collections import deque\n",
    "from tap import Tap"
   ]
  },
  {
   "cell_type": "code",
   "execution_count": null,
   "metadata": {},
   "outputs": [],
   "source": [
    "db = 'sql/wishlists.db'\n",
    "conn = sqlite3.connect(db)\n",
    "cur = conn.cursor()\n",
    "\n",
    "search = cur.execute('SELECT * FROM HIER_ENGJPN WHERE CUI == ?', [(cui?)])\n",
    "result = search.fetchall()\n",
    "\n",
    "print(result)"
   ]
  }
 ],
 "metadata": {
  "kernelspec": {
   "display_name": "Python 3",
   "language": "python",
   "name": "python3"
  },
  "language_info": {
   "codemirror_mode": {
    "name": "ipython",
    "version": 3
   },
   "file_extension": ".py",
   "mimetype": "text/x-python",
   "name": "python",
   "nbconvert_exporter": "python",
   "pygments_lexer": "ipython3",
   "version": "3.10.11"
  }
 },
 "nbformat": 4,
 "nbformat_minor": 2
}
