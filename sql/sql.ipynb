{
 "cells": [
  {
   "cell_type": "code",
   "execution_count": 8,
   "metadata": {},
   "outputs": [],
   "source": [
    "import os, sys, json\n",
    "import sqlite3\n",
    "import codecs\n",
    "import pandas as pd\n",
    "from collections import deque\n",
    "from tap import Tap"
   ]
  },
  {
   "cell_type": "code",
   "execution_count": 3,
   "metadata": {},
   "outputs": [
    {
     "data": {
      "text/plain": [
       "'/Users/m.ebara/Documents/workspace/2024Mercari/mercari_backend/sql'"
      ]
     },
     "execution_count": 3,
     "metadata": {},
     "output_type": "execute_result"
    }
   ],
   "source": [
    "%pwd"
   ]
  },
  {
   "cell_type": "code",
   "execution_count": 12,
   "metadata": {},
   "outputs": [
    {
     "name": "stdout",
     "output_type": "stream",
     "text": [
      "[1, 'iphone', 'iphone14', 0, 50000]\n",
      "[(1, 'iphone', 'iphone14', 0, 2000), (0, '0', '0', 0, 0), (1, 'iphone', 'iphone14', 0, 50000)]\n"
     ]
    }
   ],
   "source": [
    "db = 'wishlists.db'\n",
    "conn = sqlite3.connect(db)\n",
    "cur = conn.cursor()\n",
    "\n",
    "with open('wishlist.json', mode='r', encoding='UTF-8') as f:\n",
    "    wish = json.load(f)\n",
    "wishlist = [v[1] for i, v in enumerate(wish.items())]\n",
    "print(wishlist)\n",
    "sql = ''' INSERT INTO wishlist(id,category,items_name,min_budget,max_budget)\n",
    "            VALUES(?,?,?,?,?) '''\n",
    "cur = conn.cursor()\n",
    "cur.execute(sql, wishlist)\n",
    "conn.commit()\n",
    "\n",
    "search = cur.execute('SELECT * FROM wishlist')\n",
    "result = search.fetchall()\n",
    "print(result)"
   ]
  },
  {
   "cell_type": "code",
   "execution_count": 45,
   "metadata": {},
   "outputs": [
    {
     "name": "stdout",
     "output_type": "stream",
     "text": [
      "[(1, 'iphone', 'iphone8', None, None, None, '128GB', None, 0, 50000), (2, 'iphone', 'iphone8', None, None, None, '64GB', None, 0, 30000), (3, 'iphone', 'iphone8', None, None, None, '256GB', None, 0, 70000), (4, 'iphone', 'iphone14', None, None, None, '256GB', None, 0, 70000), (5, 'iphone', 'iphone14', None, None, None, '128GB', None, 0, 60000)]\n"
     ]
    }
   ],
   "source": [
    "db = 'wishlists.db'\n",
    "conn = sqlite3.connect(db)\n",
    "cur = conn.cursor()\n",
    "\n",
    "d = {\"id\":5, \"category\":\"iphone\", \"item_name\":\"iphone14\", \"storage\":\"128GB\", \"min_budget\":0, \"max_budget\":60000}\n",
    "#d = {\"id\":5, \"category\":\"iphone\", \"item_name\":\"iphone14\", \"storage\":\"256GB\"}\n",
    "#iphone 8 :64 128 256 , iphone14 :128 256 512\n",
    "listings = [v[1] for i, v in enumerate(d.items())]\n",
    "\n",
    "sql = ''' INSERT INTO wishlist(id,category,items_name,storage,min_budget,max_budget)\n",
    "            VALUES(?,?,?,?,?,?) '''\n",
    "#sql = ''' INSERT INTO listings(id,category,items_name,storage)\n",
    "#            VALUES(?,?,?,?) '''\n",
    "\n",
    "cur = conn.cursor()\n",
    "cur.execute(sql, listings)\n",
    "conn.commit()\n",
    "\n",
    "search = cur.execute('SELECT * FROM wishlist')\n",
    "result = search.fetchall()\n",
    "\n",
    "print(result)\n",
    "cur.close()\n",
    "conn.close()"
   ]
  },
  {
   "cell_type": "code",
   "execution_count": 58,
   "metadata": {},
   "outputs": [
    {
     "name": "stdout",
     "output_type": "stream",
     "text": [
      "70000 70000 1\n"
     ]
    }
   ],
   "source": [
    "db = 'wishlists.db'\n",
    "conn = sqlite3.connect(db)\n",
    "cur = conn.cursor()\n",
    "\n",
    "#with open('wishlist.json', mode='r', encoding='UTF-8') as f:\n",
    "#    wish = json.load(f)\n",
    "\n",
    "#wishlist = [v[1] for i, v in enumerate(wish.items())]\n",
    "your_item = {\"category\":\"iphone\", \"items_name\":\"iphone8\", \"storage\":\"64GB\"} #あなたの管理しているitem\n",
    "\n",
    "search = cur.execute('SELECT * FROM wishlist WHERE items_name == ?', ([your_item[\"items_name\"]])) # 型番が一致するものをwishlistから検索\n",
    "result = search.fetchall()\n",
    "\n",
    "matched = []\n",
    "for i in range(len(result)):\n",
    "    storage = result[i][6]\n",
    "    if storage == your_item[\"storage\"]: ## storageが一致するものを取得\n",
    "        matched.append(result[i])\n",
    "min = 10000000 #欲しい人の価格範囲を設定\n",
    "max = 0\n",
    "for item in matched:\n",
    "    if min > result[i][9]:\n",
    "        min = result[i][9]\n",
    "    if max < result[i][9]:\n",
    "        max = result[i][9]\n",
    "people = len(matched) #欲しがってる人の人数を設定\n",
    "print(min, max, people)\n",
    "\n",
    "cur.close()\n",
    "conn.close()"
   ]
  }
 ],
 "metadata": {
  "kernelspec": {
   "display_name": "Python 3",
   "language": "python",
   "name": "python3"
  },
  "language_info": {
   "codemirror_mode": {
    "name": "ipython",
    "version": 3
   },
   "file_extension": ".py",
   "mimetype": "text/x-python",
   "name": "python",
   "nbconvert_exporter": "python",
   "pygments_lexer": "ipython3",
   "version": "3.10.11"
  }
 },
 "nbformat": 4,
 "nbformat_minor": 2
}
